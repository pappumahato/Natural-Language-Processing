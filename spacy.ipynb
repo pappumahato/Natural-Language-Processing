{
  "cells": [
    {
      "cell_type": "markdown",
      "metadata": {
        "id": "tbcLb1mwaLv7"
      },
      "source": [
        "## Introduction to spaCy\n",
        "##### spaCy: spaCy is a free and open-source library for advanced Natural Language Processing in Python. It is written in cython language (C extension of python) which gives C like performance to Python. it is fast and provides concise API's to access ots methods and properties"
      ]
    },
    {
      "cell_type": "markdown",
      "metadata": {
        "id": "LdGXh1TeaUCy"
      },
      "source": [
        "#### Some of the main features of spaCy are given below:\n",
        "##### (1) Tokenization  (2) Part-Of-Speech Tagging  (3) Named-Entity Recognition  (4) Text Classification  (5) Lemmatization  (6) Dependency Parsing  (7) Sentence Boundary Detection  (8) Similarity"
      ]
    },
    {
      "cell_type": "code",
      "execution_count": 1,
      "metadata": {
        "id": "e3rWwD9XaH9B"
      },
      "outputs": [],
      "source": [
        "# To install spaCy in anaconda\n",
        "# conda install -c conda-forge spacy\n",
        "\n",
        "# To install spaCy models that contains language vocabularies, trained vectors, syntaxes and entities\n",
        "# python -m spacy download en"
      ]
    },
    {
      "cell_type": "markdown",
      "metadata": {
        "id": "cn91NDZqa9Ha"
      },
      "source": [
        "##### Tokenization with spaCy"
      ]
    },
    {
      "cell_type": "code",
      "execution_count": 2,
      "metadata": {
        "id": "uaQPv_sya0an"
      },
      "outputs": [],
      "source": [
        "# To import spaCy and load the model\n",
        "import spacy\n",
        "\n",
        "nlp = spacy.load(\"en_core_web_sm\")"
      ]
    },
    {
      "cell_type": "code",
      "execution_count": 3,
      "metadata": {
        "id": "aBm_hOJSbiXv"
      },
      "outputs": [],
      "source": [
        "# To create a processed nlp object on a string\n",
        "doc = nlp(\"\"\"Discover when, where, and how we collect 360 imagery. Meet Google's colorful Street View fleet and learn how we collect 360 imagery to power the world map.\"\"\")\n"
      ]
    },
    {
      "cell_type": "code",
      "execution_count": 4,
      "metadata": {
        "colab": {
          "base_uri": "https://localhost:8080/"
        },
        "id": "OFCCgaOscCjl",
        "outputId": "35120ab4-1064-482d-cbdb-c5c9b58e0f89"
      },
      "outputs": [
        {
          "name": "stdout",
          "output_type": "stream",
          "text": [
            "Discover\n",
            "when\n",
            ",\n",
            "where\n",
            ",\n",
            "and\n",
            "how\n",
            "we\n",
            "collect\n",
            "360\n",
            "imagery\n",
            ".\n",
            "Meet\n",
            "Google\n",
            "'s\n",
            "colorful\n",
            "Street\n",
            "View\n",
            "fleet\n",
            "and\n",
            "learn\n",
            "how\n",
            "we\n",
            "collect\n",
            "360\n",
            "imagery\n",
            "to\n",
            "power\n",
            "the\n",
            "world\n",
            "map\n",
            ".\n"
          ]
        }
      ],
      "source": [
        "for token in doc:\n",
        "  print(token.text)"
      ]
    },
    {
      "cell_type": "markdown",
      "metadata": {
        "id": "FLm1hxKpcoBY"
      },
      "source": [
        "##### Lemmatization with spaCy"
      ]
    },
    {
      "cell_type": "code",
      "execution_count": 6,
      "metadata": {
        "colab": {
          "base_uri": "https://localhost:8080/"
        },
        "id": "Q2QlQHlrcLHP",
        "outputId": "c66cae58-1b45-46f8-e15e-50543e30e5f9"
      },
      "outputs": [
        {
          "name": "stdout",
          "output_type": "stream",
          "text": [
            "Because because\n",
            "of of\n",
            "factors factor\n",
            "outside outside\n",
            "our our\n",
            "control control\n",
            "( (\n",
            "weather weather\n",
            ", ,\n",
            "road road\n",
            "closures closure\n",
            ", ,\n",
            "etc etc\n",
            ") )\n",
            ", ,\n",
            "it it\n",
            "is be\n",
            "always always\n",
            "possible possible\n",
            "that that\n",
            "our our\n",
            "cars car\n",
            "may may\n",
            "not not\n",
            "be be\n",
            "operating operate\n",
            ", ,\n",
            "or or\n",
            "that that\n",
            "slight slight\n",
            "changes change\n",
            "may may\n",
            "occur occur\n",
            ". .\n",
            "Please please\n",
            "also also\n",
            "be be\n",
            "aware aware\n",
            "that that\n",
            "where where\n",
            "the the\n",
            "list list\n",
            "specifies specify\n",
            "a a\n",
            "particular particular\n",
            "city city\n",
            ", ,\n",
            "this this\n",
            "may may\n",
            "include include\n",
            "smaller small\n",
            "cities city\n",
            "and and\n",
            "towns town\n",
            "that that\n",
            "are be\n",
            "within within\n",
            "driving driving\n",
            "distance distance\n",
            ". .\n"
          ]
        }
      ],
      "source": [
        "# To create a processed nlp object on a string\n",
        "docs = nlp(\"\"\"Because of factors outside our control (weather, road closures, etc), it is always possible that our cars may not be operating, or that slight changes may occur. Please also be aware that where the list specifies a particular city, this may include smaller cities and towns that are within driving distance.\"\"\")\n",
        "\n",
        "# To print tokens with their respective lemmas\n",
        "for lemma in docs:\n",
        "  print(lemma.text, lemma.lemma_)"
      ]
    },
    {
      "cell_type": "markdown",
      "metadata": {
        "id": "cEk-3pewdYbo"
      },
      "source": [
        "##### POS tagging with spaCy"
      ]
    },
    {
      "cell_type": "code",
      "execution_count": 8,
      "metadata": {
        "colab": {
          "base_uri": "https://localhost:8080/"
        },
        "id": "oy1vCZGccmQr",
        "outputId": "4b3144b8-3885-4067-a69b-f1cc415df30e"
      },
      "outputs": [
        {
          "name": "stdout",
          "output_type": "stream",
          "text": [
            "Because --- SCONJ --- IN\n",
            "of --- ADP --- IN\n",
            "factors --- NOUN --- NNS\n",
            "outside --- ADP --- IN\n",
            "our --- PRON --- PRP$\n",
            "control --- NOUN --- NN\n",
            "( --- PUNCT --- -LRB-\n",
            "weather --- NOUN --- NN\n",
            ", --- PUNCT --- ,\n",
            "road --- NOUN --- NN\n",
            "closures --- NOUN --- NNS\n",
            ", --- PUNCT --- ,\n",
            "etc --- X --- FW\n",
            ") --- PUNCT --- -RRB-\n",
            ", --- PUNCT --- ,\n",
            "it --- PRON --- PRP\n",
            "is --- AUX --- VBZ\n",
            "always --- ADV --- RB\n",
            "possible --- ADJ --- JJ\n",
            "that --- SCONJ --- IN\n",
            "our --- PRON --- PRP$\n",
            "cars --- NOUN --- NNS\n",
            "may --- AUX --- MD\n",
            "not --- PART --- RB\n",
            "be --- AUX --- VB\n",
            "operating --- VERB --- VBG\n",
            ", --- PUNCT --- ,\n",
            "or --- CCONJ --- CC\n",
            "that --- SCONJ --- IN\n",
            "slight --- ADJ --- JJ\n",
            "changes --- NOUN --- NNS\n",
            "may --- AUX --- MD\n",
            "occur --- VERB --- VB\n",
            ". --- PUNCT --- .\n",
            "Please --- INTJ --- UH\n",
            "also --- ADV --- RB\n",
            "be --- AUX --- VB\n",
            "aware --- ADJ --- JJ\n",
            "that --- SCONJ --- IN\n",
            "where --- SCONJ --- WRB\n",
            "the --- DET --- DT\n",
            "list --- NOUN --- NN\n",
            "specifies --- VERB --- VBZ\n",
            "a --- DET --- DT\n",
            "particular --- ADJ --- JJ\n",
            "city --- NOUN --- NN\n",
            ", --- PUNCT --- ,\n",
            "this --- PRON --- DT\n",
            "may --- AUX --- MD\n",
            "include --- VERB --- VB\n",
            "smaller --- ADJ --- JJR\n",
            "cities --- NOUN --- NNS\n",
            "and --- CCONJ --- CC\n",
            "towns --- NOUN --- NNS\n",
            "that --- PRON --- WDT\n",
            "are --- AUX --- VBP\n",
            "within --- ADP --- IN\n",
            "driving --- NOUN --- NN\n",
            "distance --- NOUN --- NN\n",
            ". --- PUNCT --- .\n"
          ]
        }
      ],
      "source": [
        "# To print pos tags\n",
        "for tok in docs:\n",
        "  print(tok.text+\" ---\", tok.pos_+\" ---\", tok.tag_)"
      ]
    },
    {
      "cell_type": "code",
      "execution_count": 11,
      "metadata": {
        "colab": {
          "base_uri": "https://localhost:8080/",
          "height": 243
        },
        "id": "qHPyBlh2dxfF",
        "outputId": "8c8260d9-4bec-45f7-80a2-6217489cd47b"
      },
      "outputs": [
        {
          "data": {
            "application/vnd.google.colaboratory.intrinsic+json": {
              "type": "string"
            },
            "text/plain": [
              "'<svg xmlns=\"http://www.w3.org/2000/svg\" xmlns:xlink=\"http://www.w3.org/1999/xlink\" xml:lang=\"en\" id=\"3e3cddbc3ec0460dac3d3ee3d42548bd-0\" class=\"displacy\" width=\"925\" height=\"224.5\" direction=\"ltr\" style=\"max-width: none; height: 224.5px; color: #000000; background: #ffffff; font-family: Arial; direction: ltr\">\\n<text class=\"displacy-token\" fill=\"currentColor\" text-anchor=\"middle\" y=\"134.5\">\\n    <tspan class=\"displacy-word\" fill=\"currentColor\" x=\"50\">Natural</tspan>\\n    <tspan class=\"displacy-tag\" dy=\"2em\" fill=\"currentColor\" x=\"50\">PROPN</tspan>\\n</text>\\n\\n<text class=\"displacy-token\" fill=\"currentColor\" text-anchor=\"middle\" y=\"134.5\">\\n    <tspan class=\"displacy-word\" fill=\"currentColor\" x=\"225\">Language</tspan>\\n    <tspan class=\"displacy-tag\" dy=\"2em\" fill=\"currentColor\" x=\"225\">PROPN</tspan>\\n</text>\\n\\n<text class=\"displacy-token\" fill=\"currentColor\" text-anchor=\"middle\" y=\"134.5\">\\n    <tspan class=\"displacy-word\" fill=\"currentColor\" x=\"400\">Processing</tspan>\\n    <tspan class=\"displacy-tag\" dy=\"2em\" fill=\"currentColor\" x=\"400\">PROPN</tspan>\\n</text>\\n\\n<text class=\"displacy-token\" fill=\"currentColor\" text-anchor=\"middle\" y=\"134.5\">\\n    <tspan class=\"displacy-word\" fill=\"currentColor\" x=\"575\">is</tspan>\\n    <tspan class=\"displacy-tag\" dy=\"2em\" fill=\"currentColor\" x=\"575\">AUX</tspan>\\n</text>\\n\\n<text class=\"displacy-token\" fill=\"currentColor\" text-anchor=\"middle\" y=\"134.5\">\\n    <tspan class=\"displacy-word\" fill=\"currentColor\" x=\"750\">Fun!</tspan>\\n    <tspan class=\"displacy-tag\" dy=\"2em\" fill=\"currentColor\" x=\"750\">PROPN</tspan>\\n</text>\\n\\n<g class=\"displacy-arrow\">\\n    <path class=\"displacy-arc\" id=\"arrow-3e3cddbc3ec0460dac3d3ee3d42548bd-0-0\" stroke-width=\"2px\" d=\"M70,89.5 C70,2.0 225.0,2.0 225.0,89.5\" fill=\"none\" stroke=\"currentColor\"/>\\n    <text dy=\"1.25em\" style=\"font-size: 0.8em; letter-spacing: 1px\">\\n        <textPath xlink:href=\"#arrow-3e3cddbc3ec0460dac3d3ee3d42548bd-0-0\" class=\"displacy-label\" startOffset=\"50%\" side=\"left\" fill=\"currentColor\" text-anchor=\"middle\">compound</textPath>\\n    </text>\\n    <path class=\"displacy-arrowhead\" d=\"M70,91.5 L62,79.5 78,79.5\" fill=\"currentColor\"/>\\n</g>\\n\\n<g class=\"displacy-arrow\">\\n    <path class=\"displacy-arc\" id=\"arrow-3e3cddbc3ec0460dac3d3ee3d42548bd-0-1\" stroke-width=\"2px\" d=\"M245,89.5 C245,2.0 400.0,2.0 400.0,89.5\" fill=\"none\" stroke=\"currentColor\"/>\\n    <text dy=\"1.25em\" style=\"font-size: 0.8em; letter-spacing: 1px\">\\n        <textPath xlink:href=\"#arrow-3e3cddbc3ec0460dac3d3ee3d42548bd-0-1\" class=\"displacy-label\" startOffset=\"50%\" side=\"left\" fill=\"currentColor\" text-anchor=\"middle\">compound</textPath>\\n    </text>\\n    <path class=\"displacy-arrowhead\" d=\"M245,91.5 L237,79.5 253,79.5\" fill=\"currentColor\"/>\\n</g>\\n\\n<g class=\"displacy-arrow\">\\n    <path class=\"displacy-arc\" id=\"arrow-3e3cddbc3ec0460dac3d3ee3d42548bd-0-2\" stroke-width=\"2px\" d=\"M420,89.5 C420,2.0 575.0,2.0 575.0,89.5\" fill=\"none\" stroke=\"currentColor\"/>\\n    <text dy=\"1.25em\" style=\"font-size: 0.8em; letter-spacing: 1px\">\\n        <textPath xlink:href=\"#arrow-3e3cddbc3ec0460dac3d3ee3d42548bd-0-2\" class=\"displacy-label\" startOffset=\"50%\" side=\"left\" fill=\"currentColor\" text-anchor=\"middle\">nsubj</textPath>\\n    </text>\\n    <path class=\"displacy-arrowhead\" d=\"M420,91.5 L412,79.5 428,79.5\" fill=\"currentColor\"/>\\n</g>\\n\\n<g class=\"displacy-arrow\">\\n    <path class=\"displacy-arc\" id=\"arrow-3e3cddbc3ec0460dac3d3ee3d42548bd-0-3\" stroke-width=\"2px\" d=\"M595,89.5 C595,2.0 750.0,2.0 750.0,89.5\" fill=\"none\" stroke=\"currentColor\"/>\\n    <text dy=\"1.25em\" style=\"font-size: 0.8em; letter-spacing: 1px\">\\n        <textPath xlink:href=\"#arrow-3e3cddbc3ec0460dac3d3ee3d42548bd-0-3\" class=\"displacy-label\" startOffset=\"50%\" side=\"left\" fill=\"currentColor\" text-anchor=\"middle\">attr</textPath>\\n    </text>\\n    <path class=\"displacy-arrowhead\" d=\"M750.0,91.5 L758.0,79.5 742.0,79.5\" fill=\"currentColor\"/>\\n</g>\\n</svg>'"
            ]
          },
          "execution_count": 11,
          "metadata": {},
          "output_type": "execute_result"
        }
      ],
      "source": [
        "# To use visualizers for pos tags\n",
        "import spacy\n",
        "from spacy import displacy\n",
        "nlp = spacy.load(\"en_core_web_sm\")\n",
        "\n",
        "doc = nlp(\"Natural Language Processing is Fun!\")\n",
        "\n",
        "displacy.render(doc, style='dep')"
      ]
    },
    {
      "cell_type": "markdown",
      "metadata": {
        "id": "pzVOu15Ve5Km"
      },
      "source": [
        "##### Named Entity Recognition with spaCy"
      ]
    },
    {
      "cell_type": "code",
      "execution_count": 12,
      "metadata": {
        "colab": {
          "base_uri": "https://localhost:8080/"
        },
        "id": "PE8ZKuCyekLE",
        "outputId": "2b08ffb2-68d4-42e9-e153-464e43b251f3"
      },
      "outputs": [
        {
          "name": "stdout",
          "output_type": "stream",
          "text": [
            "Tokyo --- GPE\n",
            "Japan --- GPE\n",
            "Earth --- LOC\n",
            "37.4 million --- CARDINAL\n",
            "over four --- CARDINAL\n",
            "New York City --- GPE\n",
            "USA --- GPE\n",
            "Japanese --- NORP\n"
          ]
        }
      ],
      "source": [
        "# To print named entities\n",
        "import spacy\n",
        "\n",
        "nlp = spacy.load(\"en_core_web_sm\")\n",
        "\n",
        "doc = nlp(\"\"\"Tokyo, Japan, is the largest city on Earth, with a population of 37.4 million people, which is over four times the population of New York City, USA. In total, the Japanese metropolis covers an area of 13,452km2.\"\"\")\n",
        "\n",
        "for ent in doc.ents:\n",
        "  print(ent.text+\" ---\", ent.label_)"
      ]
    },
    {
      "cell_type": "code",
      "execution_count": 13,
      "metadata": {
        "colab": {
          "base_uri": "https://localhost:8080/",
          "height": 243
        },
        "id": "WmePPX-hfsai",
        "outputId": "94a76110-7f6e-4be7-a7ee-20d0fc5f669f"
      },
      "outputs": [
        {
          "data": {
            "application/vnd.google.colaboratory.intrinsic+json": {
              "type": "string"
            },
            "text/plain": [
              "'<div class=\"entities\" style=\"line-height: 2.5; direction: ltr\">\\n<mark class=\"entity\" style=\"background: #feca74; padding: 0.45em 0.6em; margin: 0 0.25em; line-height: 1; border-radius: 0.35em;\">\\n    Tokyo\\n    <span style=\"font-size: 0.8em; font-weight: bold; line-height: 1; border-radius: 0.35em; vertical-align: middle; margin-left: 0.5rem\">GPE</span>\\n</mark>\\n, \\n<mark class=\"entity\" style=\"background: #feca74; padding: 0.45em 0.6em; margin: 0 0.25em; line-height: 1; border-radius: 0.35em;\">\\n    Japan\\n    <span style=\"font-size: 0.8em; font-weight: bold; line-height: 1; border-radius: 0.35em; vertical-align: middle; margin-left: 0.5rem\">GPE</span>\\n</mark>\\n, is the largest city on \\n<mark class=\"entity\" style=\"background: #ff9561; padding: 0.45em 0.6em; margin: 0 0.25em; line-height: 1; border-radius: 0.35em;\">\\n    Earth\\n    <span style=\"font-size: 0.8em; font-weight: bold; line-height: 1; border-radius: 0.35em; vertical-align: middle; margin-left: 0.5rem\">LOC</span>\\n</mark>\\n, with a population of \\n<mark class=\"entity\" style=\"background: #e4e7d2; padding: 0.45em 0.6em; margin: 0 0.25em; line-height: 1; border-radius: 0.35em;\">\\n    37.4 million\\n    <span style=\"font-size: 0.8em; font-weight: bold; line-height: 1; border-radius: 0.35em; vertical-align: middle; margin-left: 0.5rem\">CARDINAL</span>\\n</mark>\\n people, which is \\n<mark class=\"entity\" style=\"background: #e4e7d2; padding: 0.45em 0.6em; margin: 0 0.25em; line-height: 1; border-radius: 0.35em;\">\\n    over four\\n    <span style=\"font-size: 0.8em; font-weight: bold; line-height: 1; border-radius: 0.35em; vertical-align: middle; margin-left: 0.5rem\">CARDINAL</span>\\n</mark>\\n times the population of \\n<mark class=\"entity\" style=\"background: #feca74; padding: 0.45em 0.6em; margin: 0 0.25em; line-height: 1; border-radius: 0.35em;\">\\n    New York City\\n    <span style=\"font-size: 0.8em; font-weight: bold; line-height: 1; border-radius: 0.35em; vertical-align: middle; margin-left: 0.5rem\">GPE</span>\\n</mark>\\n, \\n<mark class=\"entity\" style=\"background: #feca74; padding: 0.45em 0.6em; margin: 0 0.25em; line-height: 1; border-radius: 0.35em;\">\\n    USA\\n    <span style=\"font-size: 0.8em; font-weight: bold; line-height: 1; border-radius: 0.35em; vertical-align: middle; margin-left: 0.5rem\">GPE</span>\\n</mark>\\n. In total, the \\n<mark class=\"entity\" style=\"background: #c887fb; padding: 0.45em 0.6em; margin: 0 0.25em; line-height: 1; border-radius: 0.35em;\">\\n    Japanese\\n    <span style=\"font-size: 0.8em; font-weight: bold; line-height: 1; border-radius: 0.35em; vertical-align: middle; margin-left: 0.5rem\">NORP</span>\\n</mark>\\n metropolis covers an area of 13,452km2.</div>'"
            ]
          },
          "execution_count": 13,
          "metadata": {},
          "output_type": "execute_result"
        }
      ],
      "source": [
        "# To use visualizers for NER\n",
        "import spacy\n",
        "from spacy import displacy\n",
        "\n",
        "doc = nlp(\"\"\"Tokyo, Japan, is the largest city on Earth, with a population of 37.4 million people, which is over four times the population of New York City, USA. In total, the Japanese metropolis covers an area of 13,452km2.\"\"\")\n",
        "\n",
        "displacy.render(doc, style=\"ent\")"
      ]
    },
    {
      "cell_type": "code",
      "execution_count": null,
      "metadata": {
        "id": "9VpklHnohSET"
      },
      "outputs": [],
      "source": []
    }
  ],
  "metadata": {
    "accelerator": "GPU",
    "colab": {
      "gpuType": "T4",
      "provenance": []
    },
    "kernelspec": {
      "display_name": "Python 3",
      "name": "python3"
    },
    "language_info": {
      "name": "python",
      "version": "3.9.12"
    }
  },
  "nbformat": 4,
  "nbformat_minor": 0
}
